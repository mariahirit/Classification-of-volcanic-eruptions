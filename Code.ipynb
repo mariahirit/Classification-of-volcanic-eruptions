{
  "nbformat": 4,
  "nbformat_minor": 0,
  "metadata": {
    "colab": {
      "provenance": [],
      "collapsed_sections": [],
      "authorship_tag": "ABX9TyM+As3phZY5pW/9BfPNwMLt",
      "include_colab_link": true
    },
    "kernelspec": {
      "name": "python3",
      "display_name": "Python 3"
    },
    "language_info": {
      "name": "python"
    }
  },
  "cells": [
    {
      "cell_type": "markdown",
      "metadata": {
        "id": "view-in-github",
        "colab_type": "text"
      },
      "source": [
        "<a href=\"https://colab.research.google.com/github/mariahirit/Classification-of-volcanic-eruptions/blob/master/Code.ipynb\" target=\"_parent\"><img src=\"https://colab.research.google.com/assets/colab-badge.svg\" alt=\"Open In Colab\"/></a>"
      ]
    },
    {
      "cell_type": "markdown",
      "source": [
        "#1.Introduction and data cleaning"
      ],
      "metadata": {
        "id": "6XAgOSwEPnvB"
      }
    },
    {
      "cell_type": "code",
      "execution_count": 44,
      "metadata": {
        "id": "8hcwlvOZnTPx"
      },
      "outputs": [],
      "source": [
        "import pandas as pd\n",
        "import matplotlib.pyplot as plt\n",
        "import numpy as np\n",
        "import seaborn as sns\n",
        "from sklearn.ensemble import RandomForestClassifier\n",
        "from sklearn.metrics import f1_score\n",
        "import warnings \n",
        "warnings.filterwarnings('ignore')\n",
        "from sklearn.metrics import accuracy_score, confusion_matrix, classification_report, roc_curve"
      ]
    },
    {
      "cell_type": "markdown",
      "source": [
        "Next we will try to predict the type of volcanic eruption. To do this, we have 6 different features based on numeric values. Each of these features represents a sensor. To perform the prediction, we need to use Random Forest, which is a tree-based algorithm that operates random bootstrap sampling to make its predictions."
      ],
      "metadata": {
        "id": "QvKrkHwiSHb1"
      }
    },
    {
      "cell_type": "code",
      "source": [
        "data = pd.read_csv(\"jm_train.csv\")\n",
        "data.head(10)"
      ],
      "metadata": {
        "colab": {
          "base_uri": "https://localhost:8080/",
          "height": 363
        },
        "id": "S5ti5dBunwLn",
        "outputId": "c41e1946-e0a0-49a0-d1c1-03414259f7db"
      },
      "execution_count": 45,
      "outputs": [
        {
          "output_type": "execute_result",
          "data": {
            "text/plain": [
              "   feature1  feature2  feature3  feature4  feature5  feature6  target\n",
              "0  0.474335  0.881640 -2.050543 -1.251935 -1.035151 -1.934367       4\n",
              "1 -1.034675  1.741801 -1.660629 -1.555989 -0.337553 -2.473838       0\n",
              "2 -0.563221 -0.688381 -0.318415 -1.845172  0.352366 -0.912928       1\n",
              "3 -1.268179  2.770688  1.054193  2.830389  0.395093  0.677715       3\n",
              "4 -1.216380 -0.391267 -2.898931 -0.913074 -2.171857 -2.367490       0\n",
              "5 -0.318657  1.494771  1.016929 -0.406147  1.404118 -0.079592       2\n",
              "6 -0.446664 -1.756617 -3.667949 -4.190566 -1.791285 -3.612232       1\n",
              "7 -1.029892  2.621811 -1.323657 -1.355265  0.075202 -2.446302       0\n",
              "8  1.493962  0.308105 -0.496445 -1.412684  0.210068 -0.607648       4\n",
              "9 -0.226935  2.793953 -2.351688  2.074944 -2.227525 -1.475209       0"
            ],
            "text/html": [
              "\n",
              "  <div id=\"df-4371c51c-9eb2-4cff-920e-269b91bf8adb\">\n",
              "    <div class=\"colab-df-container\">\n",
              "      <div>\n",
              "<style scoped>\n",
              "    .dataframe tbody tr th:only-of-type {\n",
              "        vertical-align: middle;\n",
              "    }\n",
              "\n",
              "    .dataframe tbody tr th {\n",
              "        vertical-align: top;\n",
              "    }\n",
              "\n",
              "    .dataframe thead th {\n",
              "        text-align: right;\n",
              "    }\n",
              "</style>\n",
              "<table border=\"1\" class=\"dataframe\">\n",
              "  <thead>\n",
              "    <tr style=\"text-align: right;\">\n",
              "      <th></th>\n",
              "      <th>feature1</th>\n",
              "      <th>feature2</th>\n",
              "      <th>feature3</th>\n",
              "      <th>feature4</th>\n",
              "      <th>feature5</th>\n",
              "      <th>feature6</th>\n",
              "      <th>target</th>\n",
              "    </tr>\n",
              "  </thead>\n",
              "  <tbody>\n",
              "    <tr>\n",
              "      <th>0</th>\n",
              "      <td>0.474335</td>\n",
              "      <td>0.881640</td>\n",
              "      <td>-2.050543</td>\n",
              "      <td>-1.251935</td>\n",
              "      <td>-1.035151</td>\n",
              "      <td>-1.934367</td>\n",
              "      <td>4</td>\n",
              "    </tr>\n",
              "    <tr>\n",
              "      <th>1</th>\n",
              "      <td>-1.034675</td>\n",
              "      <td>1.741801</td>\n",
              "      <td>-1.660629</td>\n",
              "      <td>-1.555989</td>\n",
              "      <td>-0.337553</td>\n",
              "      <td>-2.473838</td>\n",
              "      <td>0</td>\n",
              "    </tr>\n",
              "    <tr>\n",
              "      <th>2</th>\n",
              "      <td>-0.563221</td>\n",
              "      <td>-0.688381</td>\n",
              "      <td>-0.318415</td>\n",
              "      <td>-1.845172</td>\n",
              "      <td>0.352366</td>\n",
              "      <td>-0.912928</td>\n",
              "      <td>1</td>\n",
              "    </tr>\n",
              "    <tr>\n",
              "      <th>3</th>\n",
              "      <td>-1.268179</td>\n",
              "      <td>2.770688</td>\n",
              "      <td>1.054193</td>\n",
              "      <td>2.830389</td>\n",
              "      <td>0.395093</td>\n",
              "      <td>0.677715</td>\n",
              "      <td>3</td>\n",
              "    </tr>\n",
              "    <tr>\n",
              "      <th>4</th>\n",
              "      <td>-1.216380</td>\n",
              "      <td>-0.391267</td>\n",
              "      <td>-2.898931</td>\n",
              "      <td>-0.913074</td>\n",
              "      <td>-2.171857</td>\n",
              "      <td>-2.367490</td>\n",
              "      <td>0</td>\n",
              "    </tr>\n",
              "    <tr>\n",
              "      <th>5</th>\n",
              "      <td>-0.318657</td>\n",
              "      <td>1.494771</td>\n",
              "      <td>1.016929</td>\n",
              "      <td>-0.406147</td>\n",
              "      <td>1.404118</td>\n",
              "      <td>-0.079592</td>\n",
              "      <td>2</td>\n",
              "    </tr>\n",
              "    <tr>\n",
              "      <th>6</th>\n",
              "      <td>-0.446664</td>\n",
              "      <td>-1.756617</td>\n",
              "      <td>-3.667949</td>\n",
              "      <td>-4.190566</td>\n",
              "      <td>-1.791285</td>\n",
              "      <td>-3.612232</td>\n",
              "      <td>1</td>\n",
              "    </tr>\n",
              "    <tr>\n",
              "      <th>7</th>\n",
              "      <td>-1.029892</td>\n",
              "      <td>2.621811</td>\n",
              "      <td>-1.323657</td>\n",
              "      <td>-1.355265</td>\n",
              "      <td>0.075202</td>\n",
              "      <td>-2.446302</td>\n",
              "      <td>0</td>\n",
              "    </tr>\n",
              "    <tr>\n",
              "      <th>8</th>\n",
              "      <td>1.493962</td>\n",
              "      <td>0.308105</td>\n",
              "      <td>-0.496445</td>\n",
              "      <td>-1.412684</td>\n",
              "      <td>0.210068</td>\n",
              "      <td>-0.607648</td>\n",
              "      <td>4</td>\n",
              "    </tr>\n",
              "    <tr>\n",
              "      <th>9</th>\n",
              "      <td>-0.226935</td>\n",
              "      <td>2.793953</td>\n",
              "      <td>-2.351688</td>\n",
              "      <td>2.074944</td>\n",
              "      <td>-2.227525</td>\n",
              "      <td>-1.475209</td>\n",
              "      <td>0</td>\n",
              "    </tr>\n",
              "  </tbody>\n",
              "</table>\n",
              "</div>\n",
              "      <button class=\"colab-df-convert\" onclick=\"convertToInteractive('df-4371c51c-9eb2-4cff-920e-269b91bf8adb')\"\n",
              "              title=\"Convert this dataframe to an interactive table.\"\n",
              "              style=\"display:none;\">\n",
              "        \n",
              "  <svg xmlns=\"http://www.w3.org/2000/svg\" height=\"24px\"viewBox=\"0 0 24 24\"\n",
              "       width=\"24px\">\n",
              "    <path d=\"M0 0h24v24H0V0z\" fill=\"none\"/>\n",
              "    <path d=\"M18.56 5.44l.94 2.06.94-2.06 2.06-.94-2.06-.94-.94-2.06-.94 2.06-2.06.94zm-11 1L8.5 8.5l.94-2.06 2.06-.94-2.06-.94L8.5 2.5l-.94 2.06-2.06.94zm10 10l.94 2.06.94-2.06 2.06-.94-2.06-.94-.94-2.06-.94 2.06-2.06.94z\"/><path d=\"M17.41 7.96l-1.37-1.37c-.4-.4-.92-.59-1.43-.59-.52 0-1.04.2-1.43.59L10.3 9.45l-7.72 7.72c-.78.78-.78 2.05 0 2.83L4 21.41c.39.39.9.59 1.41.59.51 0 1.02-.2 1.41-.59l7.78-7.78 2.81-2.81c.8-.78.8-2.07 0-2.86zM5.41 20L4 18.59l7.72-7.72 1.47 1.35L5.41 20z\"/>\n",
              "  </svg>\n",
              "      </button>\n",
              "      \n",
              "  <style>\n",
              "    .colab-df-container {\n",
              "      display:flex;\n",
              "      flex-wrap:wrap;\n",
              "      gap: 12px;\n",
              "    }\n",
              "\n",
              "    .colab-df-convert {\n",
              "      background-color: #E8F0FE;\n",
              "      border: none;\n",
              "      border-radius: 50%;\n",
              "      cursor: pointer;\n",
              "      display: none;\n",
              "      fill: #1967D2;\n",
              "      height: 32px;\n",
              "      padding: 0 0 0 0;\n",
              "      width: 32px;\n",
              "    }\n",
              "\n",
              "    .colab-df-convert:hover {\n",
              "      background-color: #E2EBFA;\n",
              "      box-shadow: 0px 1px 2px rgba(60, 64, 67, 0.3), 0px 1px 3px 1px rgba(60, 64, 67, 0.15);\n",
              "      fill: #174EA6;\n",
              "    }\n",
              "\n",
              "    [theme=dark] .colab-df-convert {\n",
              "      background-color: #3B4455;\n",
              "      fill: #D2E3FC;\n",
              "    }\n",
              "\n",
              "    [theme=dark] .colab-df-convert:hover {\n",
              "      background-color: #434B5C;\n",
              "      box-shadow: 0px 1px 3px 1px rgba(0, 0, 0, 0.15);\n",
              "      filter: drop-shadow(0px 1px 2px rgba(0, 0, 0, 0.3));\n",
              "      fill: #FFFFFF;\n",
              "    }\n",
              "  </style>\n",
              "\n",
              "      <script>\n",
              "        const buttonEl =\n",
              "          document.querySelector('#df-4371c51c-9eb2-4cff-920e-269b91bf8adb button.colab-df-convert');\n",
              "        buttonEl.style.display =\n",
              "          google.colab.kernel.accessAllowed ? 'block' : 'none';\n",
              "\n",
              "        async function convertToInteractive(key) {\n",
              "          const element = document.querySelector('#df-4371c51c-9eb2-4cff-920e-269b91bf8adb');\n",
              "          const dataTable =\n",
              "            await google.colab.kernel.invokeFunction('convertToInteractive',\n",
              "                                                     [key], {});\n",
              "          if (!dataTable) return;\n",
              "\n",
              "          const docLinkHtml = 'Like what you see? Visit the ' +\n",
              "            '<a target=\"_blank\" href=https://colab.research.google.com/notebooks/data_table.ipynb>data table notebook</a>'\n",
              "            + ' to learn more about interactive tables.';\n",
              "          element.innerHTML = '';\n",
              "          dataTable['output_type'] = 'display_data';\n",
              "          await google.colab.output.renderOutput(dataTable, element);\n",
              "          const docLink = document.createElement('div');\n",
              "          docLink.innerHTML = docLinkHtml;\n",
              "          element.appendChild(docLink);\n",
              "        }\n",
              "      </script>\n",
              "    </div>\n",
              "  </div>\n",
              "  "
            ]
          },
          "metadata": {},
          "execution_count": 45
        }
      ]
    },
    {
      "cell_type": "code",
      "source": [
        "print(\"Verificamos tipos de datos: \")\n",
        "data.dtypes"
      ],
      "metadata": {
        "colab": {
          "base_uri": "https://localhost:8080/"
        },
        "id": "FPRqLyP3oebm",
        "outputId": "d348e0d9-0e84-4ed6-dfa0-990380525c32"
      },
      "execution_count": 46,
      "outputs": [
        {
          "output_type": "stream",
          "name": "stdout",
          "text": [
            "Verificamos tipos de datos: \n"
          ]
        },
        {
          "output_type": "execute_result",
          "data": {
            "text/plain": [
              "feature1    float64\n",
              "feature2    float64\n",
              "feature3    float64\n",
              "feature4    float64\n",
              "feature5    float64\n",
              "feature6    float64\n",
              "target        int64\n",
              "dtype: object"
            ]
          },
          "metadata": {},
          "execution_count": 46
        }
      ]
    },
    {
      "cell_type": "code",
      "source": [
        "data.shape"
      ],
      "metadata": {
        "colab": {
          "base_uri": "https://localhost:8080/"
        },
        "id": "7JMofrHwn53D",
        "outputId": "1349a6e9-9ed9-4f5f-bb0c-b43c41567a83"
      },
      "execution_count": 47,
      "outputs": [
        {
          "output_type": "execute_result",
          "data": {
            "text/plain": [
              "(2100, 7)"
            ]
          },
          "metadata": {},
          "execution_count": 47
        }
      ]
    },
    {
      "cell_type": "code",
      "source": [
        "print(\"Proporcion de valores nulos: \")\n",
        "data.isnull().sum() / data.shape[0]"
      ],
      "metadata": {
        "colab": {
          "base_uri": "https://localhost:8080/"
        },
        "id": "FzAcfJZG4K2-",
        "outputId": "f17bb51a-4768-46e5-afaa-198dff22b17a"
      },
      "execution_count": 48,
      "outputs": [
        {
          "output_type": "stream",
          "name": "stdout",
          "text": [
            "Proporcion de valores nulos: \n"
          ]
        },
        {
          "output_type": "execute_result",
          "data": {
            "text/plain": [
              "feature1    0.0\n",
              "feature2    0.0\n",
              "feature3    0.0\n",
              "feature4    0.0\n",
              "feature5    0.0\n",
              "feature6    0.0\n",
              "target      0.0\n",
              "dtype: float64"
            ]
          },
          "metadata": {},
          "execution_count": 48
        }
      ]
    },
    {
      "cell_type": "code",
      "source": [
        "data.tail()"
      ],
      "metadata": {
        "colab": {
          "base_uri": "https://localhost:8080/",
          "height": 206
        },
        "id": "gf-vBE_goMHw",
        "outputId": "b499d789-0bec-49a1-f2dc-d87db3959d99"
      },
      "execution_count": 49,
      "outputs": [
        {
          "output_type": "execute_result",
          "data": {
            "text/plain": [
              "      feature1  feature2  feature3  feature4  feature5  feature6  target\n",
              "2095 -0.947002  0.174969 -0.180249  0.118236 -0.143420 -0.359509       0\n",
              "2096 -1.224148  0.029956  0.536684  0.888406  0.119460  0.378946       1\n",
              "2097 -0.847593  1.538574  0.962409  1.966467  0.379934  0.737907       3\n",
              "2098  1.472437  1.187695  1.015766 -1.103522  1.586722  0.182569       4\n",
              "2099 -0.083489 -1.194784 -0.389204 -2.369081  0.382413 -0.900237       3"
            ],
            "text/html": [
              "\n",
              "  <div id=\"df-273a4a16-978b-4131-9cc2-361cdb09906b\">\n",
              "    <div class=\"colab-df-container\">\n",
              "      <div>\n",
              "<style scoped>\n",
              "    .dataframe tbody tr th:only-of-type {\n",
              "        vertical-align: middle;\n",
              "    }\n",
              "\n",
              "    .dataframe tbody tr th {\n",
              "        vertical-align: top;\n",
              "    }\n",
              "\n",
              "    .dataframe thead th {\n",
              "        text-align: right;\n",
              "    }\n",
              "</style>\n",
              "<table border=\"1\" class=\"dataframe\">\n",
              "  <thead>\n",
              "    <tr style=\"text-align: right;\">\n",
              "      <th></th>\n",
              "      <th>feature1</th>\n",
              "      <th>feature2</th>\n",
              "      <th>feature3</th>\n",
              "      <th>feature4</th>\n",
              "      <th>feature5</th>\n",
              "      <th>feature6</th>\n",
              "      <th>target</th>\n",
              "    </tr>\n",
              "  </thead>\n",
              "  <tbody>\n",
              "    <tr>\n",
              "      <th>2095</th>\n",
              "      <td>-0.947002</td>\n",
              "      <td>0.174969</td>\n",
              "      <td>-0.180249</td>\n",
              "      <td>0.118236</td>\n",
              "      <td>-0.143420</td>\n",
              "      <td>-0.359509</td>\n",
              "      <td>0</td>\n",
              "    </tr>\n",
              "    <tr>\n",
              "      <th>2096</th>\n",
              "      <td>-1.224148</td>\n",
              "      <td>0.029956</td>\n",
              "      <td>0.536684</td>\n",
              "      <td>0.888406</td>\n",
              "      <td>0.119460</td>\n",
              "      <td>0.378946</td>\n",
              "      <td>1</td>\n",
              "    </tr>\n",
              "    <tr>\n",
              "      <th>2097</th>\n",
              "      <td>-0.847593</td>\n",
              "      <td>1.538574</td>\n",
              "      <td>0.962409</td>\n",
              "      <td>1.966467</td>\n",
              "      <td>0.379934</td>\n",
              "      <td>0.737907</td>\n",
              "      <td>3</td>\n",
              "    </tr>\n",
              "    <tr>\n",
              "      <th>2098</th>\n",
              "      <td>1.472437</td>\n",
              "      <td>1.187695</td>\n",
              "      <td>1.015766</td>\n",
              "      <td>-1.103522</td>\n",
              "      <td>1.586722</td>\n",
              "      <td>0.182569</td>\n",
              "      <td>4</td>\n",
              "    </tr>\n",
              "    <tr>\n",
              "      <th>2099</th>\n",
              "      <td>-0.083489</td>\n",
              "      <td>-1.194784</td>\n",
              "      <td>-0.389204</td>\n",
              "      <td>-2.369081</td>\n",
              "      <td>0.382413</td>\n",
              "      <td>-0.900237</td>\n",
              "      <td>3</td>\n",
              "    </tr>\n",
              "  </tbody>\n",
              "</table>\n",
              "</div>\n",
              "      <button class=\"colab-df-convert\" onclick=\"convertToInteractive('df-273a4a16-978b-4131-9cc2-361cdb09906b')\"\n",
              "              title=\"Convert this dataframe to an interactive table.\"\n",
              "              style=\"display:none;\">\n",
              "        \n",
              "  <svg xmlns=\"http://www.w3.org/2000/svg\" height=\"24px\"viewBox=\"0 0 24 24\"\n",
              "       width=\"24px\">\n",
              "    <path d=\"M0 0h24v24H0V0z\" fill=\"none\"/>\n",
              "    <path d=\"M18.56 5.44l.94 2.06.94-2.06 2.06-.94-2.06-.94-.94-2.06-.94 2.06-2.06.94zm-11 1L8.5 8.5l.94-2.06 2.06-.94-2.06-.94L8.5 2.5l-.94 2.06-2.06.94zm10 10l.94 2.06.94-2.06 2.06-.94-2.06-.94-.94-2.06-.94 2.06-2.06.94z\"/><path d=\"M17.41 7.96l-1.37-1.37c-.4-.4-.92-.59-1.43-.59-.52 0-1.04.2-1.43.59L10.3 9.45l-7.72 7.72c-.78.78-.78 2.05 0 2.83L4 21.41c.39.39.9.59 1.41.59.51 0 1.02-.2 1.41-.59l7.78-7.78 2.81-2.81c.8-.78.8-2.07 0-2.86zM5.41 20L4 18.59l7.72-7.72 1.47 1.35L5.41 20z\"/>\n",
              "  </svg>\n",
              "      </button>\n",
              "      \n",
              "  <style>\n",
              "    .colab-df-container {\n",
              "      display:flex;\n",
              "      flex-wrap:wrap;\n",
              "      gap: 12px;\n",
              "    }\n",
              "\n",
              "    .colab-df-convert {\n",
              "      background-color: #E8F0FE;\n",
              "      border: none;\n",
              "      border-radius: 50%;\n",
              "      cursor: pointer;\n",
              "      display: none;\n",
              "      fill: #1967D2;\n",
              "      height: 32px;\n",
              "      padding: 0 0 0 0;\n",
              "      width: 32px;\n",
              "    }\n",
              "\n",
              "    .colab-df-convert:hover {\n",
              "      background-color: #E2EBFA;\n",
              "      box-shadow: 0px 1px 2px rgba(60, 64, 67, 0.3), 0px 1px 3px 1px rgba(60, 64, 67, 0.15);\n",
              "      fill: #174EA6;\n",
              "    }\n",
              "\n",
              "    [theme=dark] .colab-df-convert {\n",
              "      background-color: #3B4455;\n",
              "      fill: #D2E3FC;\n",
              "    }\n",
              "\n",
              "    [theme=dark] .colab-df-convert:hover {\n",
              "      background-color: #434B5C;\n",
              "      box-shadow: 0px 1px 3px 1px rgba(0, 0, 0, 0.15);\n",
              "      filter: drop-shadow(0px 1px 2px rgba(0, 0, 0, 0.3));\n",
              "      fill: #FFFFFF;\n",
              "    }\n",
              "  </style>\n",
              "\n",
              "      <script>\n",
              "        const buttonEl =\n",
              "          document.querySelector('#df-273a4a16-978b-4131-9cc2-361cdb09906b button.colab-df-convert');\n",
              "        buttonEl.style.display =\n",
              "          google.colab.kernel.accessAllowed ? 'block' : 'none';\n",
              "\n",
              "        async function convertToInteractive(key) {\n",
              "          const element = document.querySelector('#df-273a4a16-978b-4131-9cc2-361cdb09906b');\n",
              "          const dataTable =\n",
              "            await google.colab.kernel.invokeFunction('convertToInteractive',\n",
              "                                                     [key], {});\n",
              "          if (!dataTable) return;\n",
              "\n",
              "          const docLinkHtml = 'Like what you see? Visit the ' +\n",
              "            '<a target=\"_blank\" href=https://colab.research.google.com/notebooks/data_table.ipynb>data table notebook</a>'\n",
              "            + ' to learn more about interactive tables.';\n",
              "          element.innerHTML = '';\n",
              "          dataTable['output_type'] = 'display_data';\n",
              "          await google.colab.output.renderOutput(dataTable, element);\n",
              "          const docLink = document.createElement('div');\n",
              "          docLink.innerHTML = docLinkHtml;\n",
              "          element.appendChild(docLink);\n",
              "        }\n",
              "      </script>\n",
              "    </div>\n",
              "  </div>\n",
              "  "
            ]
          },
          "metadata": {},
          "execution_count": 49
        }
      ]
    },
    {
      "cell_type": "markdown",
      "source": [
        "#2.Exploratory Data"
      ],
      "metadata": {
        "id": "oM3wNt_bS0FL"
      }
    },
    {
      "cell_type": "code",
      "source": [
        "data[\"target\"].value_counts()"
      ],
      "metadata": {
        "colab": {
          "base_uri": "https://localhost:8080/"
        },
        "id": "e5SK03jqodyf",
        "outputId": "15bce2b3-48f6-4989-83cc-67f8a0c03ee0"
      },
      "execution_count": 50,
      "outputs": [
        {
          "output_type": "execute_result",
          "data": {
            "text/plain": [
              "0    427\n",
              "3    426\n",
              "1    423\n",
              "2    419\n",
              "4    405\n",
              "Name: target, dtype: int64"
            ]
          },
          "metadata": {},
          "execution_count": 50
        }
      ]
    },
    {
      "cell_type": "code",
      "source": [
        "sns.countplot(data[\"target\"])\n",
        "plt.xlabel(\"Target\")\n",
        "plt.ylabel(\"Count of Target\")\n",
        "plt.title(\"Target varable\")\n",
        "plt.show()"
      ],
      "metadata": {
        "colab": {
          "base_uri": "https://localhost:8080/",
          "height": 295
        },
        "id": "FjfbEKi5pP9A",
        "outputId": "ed523d0f-209b-4902-a08b-7ec1a36237ce"
      },
      "execution_count": 51,
      "outputs": [
        {
          "output_type": "display_data",
          "data": {
            "text/plain": [
              "<Figure size 432x288 with 1 Axes>"
            ],
            "image/png": "[encoded data removed]"
          },
          "metadata": {
            "needs_background": "light"
          }
        }
      ]
    },
    {
      "cell_type": "code",
      "source": [
        "data.describe()"
      ],
      "metadata": {
        "colab": {
          "base_uri": "https://localhost:8080/",
          "height": 300
        },
        "id": "jbuS9nKB4VZM",
        "outputId": "2831da28-91ad-483f-a4c6-b7c11f1a0a65"
      },
      "execution_count": 52,
      "outputs": [
        {
          "output_type": "execute_result",
          "data": {
            "text/plain": [
              "          feature1     feature2     feature3     feature4     feature5  \\\n",
              "count  2100.000000  2100.000000  2100.000000  2100.000000  2100.000000   \n",
              "mean     -0.204656     0.199249    -0.378140    -0.206425    -0.186419   \n",
              "std       1.543613     1.614024     1.450548     1.442225     1.501573   \n",
              "min      -6.683655    -5.383371    -6.147055    -5.653594    -5.912521   \n",
              "25%      -1.171340    -0.877386    -1.365990    -1.259403    -1.211685   \n",
              "50%      -0.443868     0.320507    -0.439745    -0.176504    -0.195751   \n",
              "75%       0.890023     1.321430     0.662898     0.866879     0.851843   \n",
              "max       4.565547     6.700133     4.157518     4.371912     5.068783   \n",
              "\n",
              "          feature6       target  \n",
              "count  2100.000000  2100.000000  \n",
              "mean     -0.433229     1.980476  \n",
              "std       1.188791     1.410537  \n",
              "min      -4.433189     0.000000  \n",
              "25%      -1.131944     1.000000  \n",
              "50%      -0.406754     2.000000  \n",
              "75%       0.348593     3.000000  \n",
              "max       4.016324     4.000000  "
            ],
            "text/html": [
              "\n",
              "  <div id=\"df-1775c05e-ab52-4156-8db9-002e0560d868\">\n",
              "    <div class=\"colab-df-container\">\n",
              "      <div>\n",
              "<style scoped>\n",
              "    .dataframe tbody tr th:only-of-type {\n",
              "        vertical-align: middle;\n",
              "    }\n",
              "\n",
              "    .dataframe tbody tr th {\n",
              "        vertical-align: top;\n",
              "    }\n",
              "\n",
              "    .dataframe thead th {\n",
              "        text-align: right;\n",
              "    }\n",
              "</style>\n",
              "<table border=\"1\" class=\"dataframe\">\n",
              "  <thead>\n",
              "    <tr style=\"text-align: right;\">\n",
              "      <th></th>\n",
              "      <th>feature1</th>\n",
              "      <th>feature2</th>\n",
              "      <th>feature3</th>\n",
              "      <th>feature4</th>\n",
              "      <th>feature5</th>\n",
              "      <th>feature6</th>\n",
              "      <th>target</th>\n",
              "    </tr>\n",
              "  </thead>\n",
              "  <tbody>\n",
              "    <tr>\n",
              "      <th>count</th>\n",
              "      <td>2100.000000</td>\n",
              "      <td>2100.000000</td>\n",
              "      <td>2100.000000</td>\n",
              "      <td>2100.000000</td>\n",
              "      <td>2100.000000</td>\n",
              "      <td>2100.000000</td>\n",
              "      <td>2100.000000</td>\n",
              "    </tr>\n",
              "    <tr>\n",
              "      <th>mean</th>\n",
              "      <td>-0.204656</td>\n",
              "      <td>0.199249</td>\n",
              "      <td>-0.378140</td>\n",
              "      <td>-0.206425</td>\n",
              "      <td>-0.186419</td>\n",
              "      <td>-0.433229</td>\n",
              "      <td>1.980476</td>\n",
              "    </tr>\n",
              "    <tr>\n",
              "      <th>std</th>\n",
              "      <td>1.543613</td>\n",
              "      <td>1.614024</td>\n",
              "      <td>1.450548</td>\n",
              "      <td>1.442225</td>\n",
              "      <td>1.501573</td>\n",
              "      <td>1.188791</td>\n",
              "      <td>1.410537</td>\n",
              "    </tr>\n",
              "    <tr>\n",
              "      <th>min</th>\n",
              "      <td>-6.683655</td>\n",
              "      <td>-5.383371</td>\n",
              "      <td>-6.147055</td>\n",
              "      <td>-5.653594</td>\n",
              "      <td>-5.912521</td>\n",
              "      <td>-4.433189</td>\n",
              "      <td>0.000000</td>\n",
              "    </tr>\n",
              "    <tr>\n",
              "      <th>25%</th>\n",
              "      <td>-1.171340</td>\n",
              "      <td>-0.877386</td>\n",
              "      <td>-1.365990</td>\n",
              "      <td>-1.259403</td>\n",
              "      <td>-1.211685</td>\n",
              "      <td>-1.131944</td>\n",
              "      <td>1.000000</td>\n",
              "    </tr>\n",
              "    <tr>\n",
              "      <th>50%</th>\n",
              "      <td>-0.443868</td>\n",
              "      <td>0.320507</td>\n",
              "      <td>-0.439745</td>\n",
              "      <td>-0.176504</td>\n",
              "      <td>-0.195751</td>\n",
              "      <td>-0.406754</td>\n",
              "      <td>2.000000</td>\n",
              "    </tr>\n",
              "    <tr>\n",
              "      <th>75%</th>\n",
              "      <td>0.890023</td>\n",
              "      <td>1.321430</td>\n",
              "      <td>0.662898</td>\n",
              "      <td>0.866879</td>\n",
              "      <td>0.851843</td>\n",
              "      <td>0.348593</td>\n",
              "      <td>3.000000</td>\n",
              "    </tr>\n",
              "    <tr>\n",
              "      <th>max</th>\n",
              "      <td>4.565547</td>\n",
              "      <td>6.700133</td>\n",
              "      <td>4.157518</td>\n",
              "      <td>4.371912</td>\n",
              "      <td>5.068783</td>\n",
              "      <td>4.016324</td>\n",
              "      <td>4.000000</td>\n",
              "    </tr>\n",
              "  </tbody>\n",
              "</table>\n",
              "</div>\n",
              "      <button class=\"colab-df-convert\" onclick=\"convertToInteractive('df-1775c05e-ab52-4156-8db9-002e0560d868')\"\n",
              "              title=\"Convert this dataframe to an interactive table.\"\n",
              "              style=\"display:none;\">\n",
              "        \n",
              "  <svg xmlns=\"http://www.w3.org/2000/svg\" height=\"24px\"viewBox=\"0 0 24 24\"\n",
              "       width=\"24px\">\n",
              "    <path d=\"M0 0h24v24H0V0z\" fill=\"none\"/>\n",
              "    <path d=\"M18.56 5.44l.94 2.06.94-2.06 2.06-.94-2.06-.94-.94-2.06-.94 2.06-2.06.94zm-11 1L8.5 8.5l.94-2.06 2.06-.94-2.06-.94L8.5 2.5l-.94 2.06-2.06.94zm10 10l.94 2.06.94-2.06 2.06-.94-2.06-.94-.94-2.06-.94 2.06-2.06.94z\"/><path d=\"M17.41 7.96l-1.37-1.37c-.4-.4-.92-.59-1.43-.59-.52 0-1.04.2-1.43.59L10.3 9.45l-7.72 7.72c-.78.78-.78 2.05 0 2.83L4 21.41c.39.39.9.59 1.41.59.51 0 1.02-.2 1.41-.59l7.78-7.78 2.81-2.81c.8-.78.8-2.07 0-2.86zM5.41 20L4 18.59l7.72-7.72 1.47 1.35L5.41 20z\"/>\n",
              "  </svg>\n",
              "      </button>\n",
              "      \n",
              "  <style>\n",
              "    .colab-df-container {\n",
              "      display:flex;\n",
              "      flex-wrap:wrap;\n",
              "      gap: 12px;\n",
              "    }\n",
              "\n",
              "    .colab-df-convert {\n",
              "      background-color: #E8F0FE;\n",
              "      border: none;\n",
              "      border-radius: 50%;\n",
              "      cursor: pointer;\n",
              "      display: none;\n",
              "      fill: #1967D2;\n",
              "      height: 32px;\n",
              "      padding: 0 0 0 0;\n",
              "      width: 32px;\n",
              "    }\n",
              "\n",
              "    .colab-df-convert:hover {\n",
              "      background-color: #E2EBFA;\n",
              "      box-shadow: 0px 1px 2px rgba(60, 64, 67, 0.3), 0px 1px 3px 1px rgba(60, 64, 67, 0.15);\n",
              "      fill: #174EA6;\n",
              "    }\n",
              "\n",
              "    [theme=dark] .colab-df-convert {\n",
              "      background-color: #3B4455;\n",
              "      fill: #D2E3FC;\n",
              "    }\n",
              "\n",
              "    [theme=dark] .colab-df-convert:hover {\n",
              "      background-color: #434B5C;\n",
              "      box-shadow: 0px 1px 3px 1px rgba(0, 0, 0, 0.15);\n",
              "      filter: drop-shadow(0px 1px 2px rgba(0, 0, 0, 0.3));\n",
              "      fill: #FFFFFF;\n",
              "    }\n",
              "  </style>\n",
              "\n",
              "      <script>\n",
              "        const buttonEl =\n",
              "          document.querySelector('#df-1775c05e-ab52-4156-8db9-002e0560d868 button.colab-df-convert');\n",
              "        buttonEl.style.display =\n",
              "          google.colab.kernel.accessAllowed ? 'block' : 'none';\n",
              "\n",
              "        async function convertToInteractive(key) {\n",
              "          const element = document.querySelector('#df-1775c05e-ab52-4156-8db9-002e0560d868');\n",
              "          const dataTable =\n",
              "            await google.colab.kernel.invokeFunction('convertToInteractive',\n",
              "                                                     [key], {});\n",
              "          if (!dataTable) return;\n",
              "\n",
              "          const docLinkHtml = 'Like what you see? Visit the ' +\n",
              "            '<a target=\"_blank\" href=https://colab.research.google.com/notebooks/data_table.ipynb>data table notebook</a>'\n",
              "            + ' to learn more about interactive tables.';\n",
              "          element.innerHTML = '';\n",
              "          dataTable['output_type'] = 'display_data';\n",
              "          await google.colab.output.renderOutput(dataTable, element);\n",
              "          const docLink = document.createElement('div');\n",
              "          docLink.innerHTML = docLinkHtml;\n",
              "          element.appendChild(docLink);\n",
              "        }\n",
              "      </script>\n",
              "    </div>\n",
              "  </div>\n",
              "  "
            ]
          },
          "metadata": {},
          "execution_count": 52
        }
      ]
    },
    {
      "cell_type": "code",
      "source": [
        "data.isnull().sum()"
      ],
      "metadata": {
        "colab": {
          "base_uri": "https://localhost:8080/"
        },
        "id": "HgxsXqsU4fyW",
        "outputId": "a874a2ea-341f-454f-bf27-fb91e8b22bdd"
      },
      "execution_count": 53,
      "outputs": [
        {
          "output_type": "execute_result",
          "data": {
            "text/plain": [
              "feature1    0\n",
              "feature2    0\n",
              "feature3    0\n",
              "feature4    0\n",
              "feature5    0\n",
              "feature6    0\n",
              "target      0\n",
              "dtype: int64"
            ]
          },
          "metadata": {},
          "execution_count": 53
        }
      ]
    },
    {
      "cell_type": "markdown",
      "source": [
        "It also seems that there is similarity and symmetry between the both sides, this mean the dataset is clean and has a well-distributed data."
      ],
      "metadata": {
        "id": "bn0pACtdTG-L"
      }
    },
    {
      "cell_type": "code",
      "source": [
        "data.hist()"
      ],
      "metadata": {
        "colab": {
          "base_uri": "https://localhost:8080/",
          "height": 455
        },
        "id": "bS8NKZqb4nLZ",
        "outputId": "637c3497-0ffa-4767-dfcb-7c931a89b6a2"
      },
      "execution_count": 54,
      "outputs": [
        {
          "output_type": "execute_result",
          "data": {
            "text/plain": [
              "array([[<matplotlib.axes._subplots.AxesSubplot object at 0x7f14fd072e10>,\n",
              "        <matplotlib.axes._subplots.AxesSubplot object at 0x7f14fd028790>,\n",
              "        <matplotlib.axes._subplots.AxesSubplot object at 0x7f14fcfdcd90>],\n",
              "       [<matplotlib.axes._subplots.AxesSubplot object at 0x7f14fcf9f3d0>,\n",
              "        <matplotlib.axes._subplots.AxesSubplot object at 0x7f14fcf569d0>,\n",
              "        <matplotlib.axes._subplots.AxesSubplot object at 0x7f14fcf04b10>],\n",
              "       [<matplotlib.axes._subplots.AxesSubplot object at 0x7f14fced1690>,\n",
              "        <matplotlib.axes._subplots.AxesSubplot object at 0x7f14fce88bd0>,\n",
              "        <matplotlib.axes._subplots.AxesSubplot object at 0x7f14fce88c10>]],\n",
              "      dtype=object)"
            ]
          },
          "metadata": {},
          "execution_count": 54
        },
        {
          "output_type": "display_data",
          "data": {
            "text/plain": [
              "<Figure size 432x288 with 9 Axes>"
            ],
            "image/png": "[encoded data removed]"
          },
          "metadata": {
            "needs_background": "light"
          }
        }
      ]
    },
    {
      "cell_type": "code",
      "source": [
        "x= data.iloc[:, :-1]\n",
        "y = data.iloc[:, -1]"
      ],
      "metadata": {
        "id": "Ma_xAwDJqz9E"
      },
      "execution_count": 55,
      "outputs": []
    },
    {
      "cell_type": "code",
      "source": [
        "x.shape\n"
      ],
      "metadata": {
        "colab": {
          "base_uri": "https://localhost:8080/"
        },
        "id": "SQ3DzrGArg4X",
        "outputId": "077e83e7-5591-439e-fa4e-e5b7d94c62f7"
      },
      "execution_count": 56,
      "outputs": [
        {
          "output_type": "execute_result",
          "data": {
            "text/plain": [
              "(2100, 6)"
            ]
          },
          "metadata": {},
          "execution_count": 56
        }
      ]
    },
    {
      "cell_type": "code",
      "source": [
        "y.shape"
      ],
      "metadata": {
        "colab": {
          "base_uri": "https://localhost:8080/"
        },
        "id": "FLgsYUxNroYJ",
        "outputId": "6336f059-8f8f-476e-b74b-674837320b29"
      },
      "execution_count": 57,
      "outputs": [
        {
          "output_type": "execute_result",
          "data": {
            "text/plain": [
              "(2100,)"
            ]
          },
          "metadata": {},
          "execution_count": 57
        }
      ]
    },
    {
      "cell_type": "markdown",
      "source": [
        "#3.Model building"
      ],
      "metadata": {
        "id": "FlEB6k-1Tini"
      }
    },
    {
      "cell_type": "markdown",
      "source": [
        "We will develop our model using the features_importance."
      ],
      "metadata": {
        "id": "7hskRfnTUaFo"
      }
    },
    {
      "cell_type": "code",
      "source": [
        "from sklearn.model_selection import train_test_split\n",
        "x_train, x_test, y_train, y_test = train_test_split(x, y,\n",
        "                                                    random_state=99)"
      ],
      "metadata": {
        "id": "BGI9Tq8tAfFK"
      },
      "execution_count": 58,
      "outputs": []
    },
    {
      "cell_type": "code",
      "source": [
        "from sklearn.ensemble import RandomForestClassifier\n",
        "cls=RandomForestClassifier(criterion=\"entropy\",\n",
        "                           max_depth= 8,\n",
        "                           min_samples_split=10,\n",
        "                           random_state=5)"
      ],
      "metadata": {
        "id": "99-4YTOP_-NT"
      },
      "execution_count": 59,
      "outputs": []
    },
    {
      "cell_type": "code",
      "source": [
        "cls.fit(x_train, y_train)"
      ],
      "metadata": {
        "colab": {
          "base_uri": "https://localhost:8080/"
        },
        "id": "O3pGb58Jvu9K",
        "outputId": "c8f29af8-ece4-4ecd-ac31-abfedf6337be"
      },
      "execution_count": 60,
      "outputs": [
        {
          "output_type": "execute_result",
          "data": {
            "text/plain": [
              "RandomForestClassifier(criterion='entropy', max_depth=8, min_samples_split=10,\n",
              "                       random_state=5)"
            ]
          },
          "metadata": {},
          "execution_count": 60
        }
      ]
    },
    {
      "cell_type": "code",
      "source": [
        "cls.feature_importances_"
      ],
      "metadata": {
        "colab": {
          "base_uri": "https://localhost:8080/"
        },
        "id": "Bcp6EcR6wDTY",
        "outputId": "d95161d0-4930-4a4c-a18e-e51f24c74a3f"
      },
      "execution_count": 61,
      "outputs": [
        {
          "output_type": "execute_result",
          "data": {
            "text/plain": [
              "array([0.25099874, 0.21298662, 0.11270241, 0.15888817, 0.13068303,\n",
              "       0.13374102])"
            ]
          },
          "metadata": {},
          "execution_count": 61
        }
      ]
    },
    {
      "cell_type": "code",
      "source": [
        "data.columns"
      ],
      "metadata": {
        "colab": {
          "base_uri": "https://localhost:8080/"
        },
        "id": "G1TyrjJ3vt0b",
        "outputId": "232fc719-407f-4d30-ff5a-b9744ae75585"
      },
      "execution_count": 62,
      "outputs": [
        {
          "output_type": "execute_result",
          "data": {
            "text/plain": [
              "Index(['feature1', 'feature2', 'feature3', 'feature4', 'feature5', 'feature6',\n",
              "       'target'],\n",
              "      dtype='object')"
            ]
          },
          "metadata": {},
          "execution_count": 62
        }
      ]
    },
    {
      "cell_type": "code",
      "source": [
        "y_pred = cls.predict(x_train)\n",
        "y_pred[0: ]"
      ],
      "metadata": {
        "colab": {
          "base_uri": "https://localhost:8080/"
        },
        "id": "WjmRD_Sw7cn5",
        "outputId": "add013e1-f3c4-44c9-c8de-b75e93ed54ec"
      },
      "execution_count": 63,
      "outputs": [
        {
          "output_type": "execute_result",
          "data": {
            "text/plain": [
              "array([3, 1, 1, ..., 1, 2, 2])"
            ]
          },
          "metadata": {},
          "execution_count": 63
        }
      ]
    },
    {
      "cell_type": "markdown",
      "source": [
        "# 4.Model evaluation"
      ],
      "metadata": {
        "id": "4iSL8iRT59ix"
      }
    },
    {
      "cell_type": "markdown",
      "source": [
        "# 4.1 Train datasets"
      ],
      "metadata": {
        "id": "1oOkgvObVTZl"
      }
    },
    {
      "cell_type": "code",
      "source": [
        "\n",
        "from sklearn.metrics import confusion_matrix\n",
        "confusion_matrix( y_train, y_pred)"
      ],
      "metadata": {
        "colab": {
          "base_uri": "https://localhost:8080/"
        },
        "id": "uO_vr7HO6CCy",
        "outputId": "06e32aad-62e5-4160-9779-b69b24bc93fc"
      },
      "execution_count": 64,
      "outputs": [
        {
          "output_type": "execute_result",
          "data": {
            "text/plain": [
              "array([[288,  15,   7,   9,   0],\n",
              "       [  7, 278,  12,  19,   1],\n",
              "       [  8,   7, 269,   9,  19],\n",
              "       [  5,   9,   5, 280,  21],\n",
              "       [  9,   0,   7,  10, 281]])"
            ]
          },
          "metadata": {},
          "execution_count": 64
        }
      ]
    },
    {
      "cell_type": "code",
      "source": [
        "from sklearn.metrics import f1_score\n",
        "f1_score(y_train, y_pred, average='macro')"
      ],
      "metadata": {
        "colab": {
          "base_uri": "https://localhost:8080/"
        },
        "id": "a0O3wQ_69B1d",
        "outputId": "3340d745-ac5e-4120-837f-18d524b8a40f"
      },
      "execution_count": 65,
      "outputs": [
        {
          "output_type": "execute_result",
          "data": {
            "text/plain": [
              "0.8863878411443127"
            ]
          },
          "metadata": {},
          "execution_count": 65
        }
      ]
    },
    {
      "cell_type": "code",
      "source": [
        "from sklearn.metrics import accuracy_score\n",
        "accuracy_score(y_train, y_pred)"
      ],
      "metadata": {
        "colab": {
          "base_uri": "https://localhost:8080/"
        },
        "id": "XBjdNdd28Nqw",
        "outputId": "bc73922e-e5f6-4f05-9bf7-a4b18be98a02"
      },
      "execution_count": 66,
      "outputs": [
        {
          "output_type": "execute_result",
          "data": {
            "text/plain": [
              "0.8863492063492063"
            ]
          },
          "metadata": {},
          "execution_count": 66
        }
      ]
    },
    {
      "cell_type": "code",
      "source": [
        "from sklearn.model_selection import cross_val_score\n",
        "cross_val_score(cls, x_train, y_train, cv =10)"
      ],
      "metadata": {
        "colab": {
          "base_uri": "https://localhost:8080/"
        },
        "id": "on2sEii39WEZ",
        "outputId": "58002017-0527-4ef8-d283-451c5868e9f3"
      },
      "execution_count": 67,
      "outputs": [
        {
          "output_type": "execute_result",
          "data": {
            "text/plain": [
              "array([0.71518987, 0.8164557 , 0.74050633, 0.78481013, 0.78481013,\n",
              "       0.72611465, 0.74522293, 0.75159236, 0.77070064, 0.70700637])"
            ]
          },
          "metadata": {},
          "execution_count": 67
        }
      ]
    },
    {
      "cell_type": "code",
      "source": [
        "from sklearn.metrics import classification_report\n",
        "print(classification_report (y_pred, y_train))"
      ],
      "metadata": {
        "colab": {
          "base_uri": "https://localhost:8080/"
        },
        "id": "QFnkSfnh-nmW",
        "outputId": "b980ff32-581e-428e-d39c-61088e103191"
      },
      "execution_count": 68,
      "outputs": [
        {
          "output_type": "stream",
          "name": "stdout",
          "text": [
            "              precision    recall  f1-score   support\n",
            "\n",
            "           0       0.90      0.91      0.91       317\n",
            "           1       0.88      0.90      0.89       309\n",
            "           2       0.86      0.90      0.88       300\n",
            "           3       0.88      0.86      0.87       327\n",
            "           4       0.92      0.87      0.89       322\n",
            "\n",
            "    accuracy                           0.89      1575\n",
            "   macro avg       0.89      0.89      0.89      1575\n",
            "weighted avg       0.89      0.89      0.89      1575\n",
            "\n"
          ]
        }
      ]
    },
    {
      "cell_type": "markdown",
      "source": [
        "#Exploratory DataTest"
      ],
      "metadata": {
        "id": "ZichM_QrVsof"
      }
    },
    {
      "cell_type": "code",
      "source": [
        "datatest= pd.read_csv(\"jm_X_test.csv\")\n",
        "datatest.head(10)"
      ],
      "metadata": {
        "colab": {
          "base_uri": "https://localhost:8080/",
          "height": 363
        },
        "id": "ERKrUHWwRxpr",
        "outputId": "d8cb7e30-92fc-4307-e6fe-db65e1f823f8"
      },
      "execution_count": 69,
      "outputs": [
        {
          "output_type": "execute_result",
          "data": {
            "text/plain": [
              "   feature1  feature2  feature3  feature4  feature5  feature6\n",
              "0  0.943723 -2.985473 -0.938218  3.580261 -3.038106  2.080338\n",
              "1 -0.899819  1.295568  1.274513  0.718186  1.117035  0.463068\n",
              "2  0.293281 -0.099317  1.874902 -0.589582  1.828441  1.011596\n",
              "3 -1.134804  0.888585 -1.464499 -1.183056 -0.525729 -1.963822\n",
              "4 -0.909240  1.575797  0.697212  1.197092  0.486185  0.222644\n",
              "5 -1.259524 -0.298085  2.043900 -0.945770  2.108906  0.622710\n",
              "6  1.433834  1.991280  0.537571  1.260210  0.371860  0.633029\n",
              "7 -1.048317 -0.238468 -1.722257 -1.381502 -0.931728 -1.843310\n",
              "8  3.179688 -0.132839  1.015864  0.285619  0.654270  1.610692\n",
              "9  2.355756 -1.503617 -1.531898 -1.944593 -0.901331 -0.698797"
            ],
            "text/html": [
              "\n",
              "  <div id=\"df-9b2bfcc7-6e44-48dc-a48c-cd84ee1d4032\">\n",
              "    <div class=\"colab-df-container\">\n",
              "      <div>\n",
              "<style scoped>\n",
              "    .dataframe tbody tr th:only-of-type {\n",
              "        vertical-align: middle;\n",
              "    }\n",
              "\n",
              "    .dataframe tbody tr th {\n",
              "        vertical-align: top;\n",
              "    }\n",
              "\n",
              "    .dataframe thead th {\n",
              "        text-align: right;\n",
              "    }\n",
              "</style>\n",
              "<table border=\"1\" class=\"dataframe\">\n",
              "  <thead>\n",
              "    <tr style=\"text-align: right;\">\n",
              "      <th></th>\n",
              "      <th>feature1</th>\n",
              "      <th>feature2</th>\n",
              "      <th>feature3</th>\n",
              "      <th>feature4</th>\n",
              "      <th>feature5</th>\n",
              "      <th>feature6</th>\n",
              "    </tr>\n",
              "  </thead>\n",
              "  <tbody>\n",
              "    <tr>\n",
              "      <th>0</th>\n",
              "      <td>0.943723</td>\n",
              "      <td>-2.985473</td>\n",
              "      <td>-0.938218</td>\n",
              "      <td>3.580261</td>\n",
              "      <td>-3.038106</td>\n",
              "      <td>2.080338</td>\n",
              "    </tr>\n",
              "    <tr>\n",
              "      <th>1</th>\n",
              "      <td>-0.899819</td>\n",
              "      <td>1.295568</td>\n",
              "      <td>1.274513</td>\n",
              "      <td>0.718186</td>\n",
              "      <td>1.117035</td>\n",
              "      <td>0.463068</td>\n",
              "    </tr>\n",
              "    <tr>\n",
              "      <th>2</th>\n",
              "      <td>0.293281</td>\n",
              "      <td>-0.099317</td>\n",
              "      <td>1.874902</td>\n",
              "      <td>-0.589582</td>\n",
              "      <td>1.828441</td>\n",
              "      <td>1.011596</td>\n",
              "    </tr>\n",
              "    <tr>\n",
              "      <th>3</th>\n",
              "      <td>-1.134804</td>\n",
              "      <td>0.888585</td>\n",
              "      <td>-1.464499</td>\n",
              "      <td>-1.183056</td>\n",
              "      <td>-0.525729</td>\n",
              "      <td>-1.963822</td>\n",
              "    </tr>\n",
              "    <tr>\n",
              "      <th>4</th>\n",
              "      <td>-0.909240</td>\n",
              "      <td>1.575797</td>\n",
              "      <td>0.697212</td>\n",
              "      <td>1.197092</td>\n",
              "      <td>0.486185</td>\n",
              "      <td>0.222644</td>\n",
              "    </tr>\n",
              "    <tr>\n",
              "      <th>5</th>\n",
              "      <td>-1.259524</td>\n",
              "      <td>-0.298085</td>\n",
              "      <td>2.043900</td>\n",
              "      <td>-0.945770</td>\n",
              "      <td>2.108906</td>\n",
              "      <td>0.622710</td>\n",
              "    </tr>\n",
              "    <tr>\n",
              "      <th>6</th>\n",
              "      <td>1.433834</td>\n",
              "      <td>1.991280</td>\n",
              "      <td>0.537571</td>\n",
              "      <td>1.260210</td>\n",
              "      <td>0.371860</td>\n",
              "      <td>0.633029</td>\n",
              "    </tr>\n",
              "    <tr>\n",
              "      <th>7</th>\n",
              "      <td>-1.048317</td>\n",
              "      <td>-0.238468</td>\n",
              "      <td>-1.722257</td>\n",
              "      <td>-1.381502</td>\n",
              "      <td>-0.931728</td>\n",
              "      <td>-1.843310</td>\n",
              "    </tr>\n",
              "    <tr>\n",
              "      <th>8</th>\n",
              "      <td>3.179688</td>\n",
              "      <td>-0.132839</td>\n",
              "      <td>1.015864</td>\n",
              "      <td>0.285619</td>\n",
              "      <td>0.654270</td>\n",
              "      <td>1.610692</td>\n",
              "    </tr>\n",
              "    <tr>\n",
              "      <th>9</th>\n",
              "      <td>2.355756</td>\n",
              "      <td>-1.503617</td>\n",
              "      <td>-1.531898</td>\n",
              "      <td>-1.944593</td>\n",
              "      <td>-0.901331</td>\n",
              "      <td>-0.698797</td>\n",
              "    </tr>\n",
              "  </tbody>\n",
              "</table>\n",
              "</div>\n",
              "      <button class=\"colab-df-convert\" onclick=\"convertToInteractive('df-9b2bfcc7-6e44-48dc-a48c-cd84ee1d4032')\"\n",
              "              title=\"Convert this dataframe to an interactive table.\"\n",
              "              style=\"display:none;\">\n",
              "        \n",
              "  <svg xmlns=\"http://www.w3.org/2000/svg\" height=\"24px\"viewBox=\"0 0 24 24\"\n",
              "       width=\"24px\">\n",
              "    <path d=\"M0 0h24v24H0V0z\" fill=\"none\"/>\n",
              "    <path d=\"M18.56 5.44l.94 2.06.94-2.06 2.06-.94-2.06-.94-.94-2.06-.94 2.06-2.06.94zm-11 1L8.5 8.5l.94-2.06 2.06-.94-2.06-.94L8.5 2.5l-.94 2.06-2.06.94zm10 10l.94 2.06.94-2.06 2.06-.94-2.06-.94-.94-2.06-.94 2.06-2.06.94z\"/><path d=\"M17.41 7.96l-1.37-1.37c-.4-.4-.92-.59-1.43-.59-.52 0-1.04.2-1.43.59L10.3 9.45l-7.72 7.72c-.78.78-.78 2.05 0 2.83L4 21.41c.39.39.9.59 1.41.59.51 0 1.02-.2 1.41-.59l7.78-7.78 2.81-2.81c.8-.78.8-2.07 0-2.86zM5.41 20L4 18.59l7.72-7.72 1.47 1.35L5.41 20z\"/>\n",
              "  </svg>\n",
              "      </button>\n",
              "      \n",
              "  <style>\n",
              "    .colab-df-container {\n",
              "      display:flex;\n",
              "      flex-wrap:wrap;\n",
              "      gap: 12px;\n",
              "    }\n",
              "\n",
              "    .colab-df-convert {\n",
              "      background-color: #E8F0FE;\n",
              "      border: none;\n",
              "      border-radius: 50%;\n",
              "      cursor: pointer;\n",
              "      display: none;\n",
              "      fill: #1967D2;\n",
              "      height: 32px;\n",
              "      padding: 0 0 0 0;\n",
              "      width: 32px;\n",
              "    }\n",
              "\n",
              "    .colab-df-convert:hover {\n",
              "      background-color: #E2EBFA;\n",
              "      box-shadow: 0px 1px 2px rgba(60, 64, 67, 0.3), 0px 1px 3px 1px rgba(60, 64, 67, 0.15);\n",
              "      fill: #174EA6;\n",
              "    }\n",
              "\n",
              "    [theme=dark] .colab-df-convert {\n",
              "      background-color: #3B4455;\n",
              "      fill: #D2E3FC;\n",
              "    }\n",
              "\n",
              "    [theme=dark] .colab-df-convert:hover {\n",
              "      background-color: #434B5C;\n",
              "      box-shadow: 0px 1px 3px 1px rgba(0, 0, 0, 0.15);\n",
              "      filter: drop-shadow(0px 1px 2px rgba(0, 0, 0, 0.3));\n",
              "      fill: #FFFFFF;\n",
              "    }\n",
              "  </style>\n",
              "\n",
              "      <script>\n",
              "        const buttonEl =\n",
              "          document.querySelector('#df-9b2bfcc7-6e44-48dc-a48c-cd84ee1d4032 button.colab-df-convert');\n",
              "        buttonEl.style.display =\n",
              "          google.colab.kernel.accessAllowed ? 'block' : 'none';\n",
              "\n",
              "        async function convertToInteractive(key) {\n",
              "          const element = document.querySelector('#df-9b2bfcc7-6e44-48dc-a48c-cd84ee1d4032');\n",
              "          const dataTable =\n",
              "            await google.colab.kernel.invokeFunction('convertToInteractive',\n",
              "                                                     [key], {});\n",
              "          if (!dataTable) return;\n",
              "\n",
              "          const docLinkHtml = 'Like what you see? Visit the ' +\n",
              "            '<a target=\"_blank\" href=https://colab.research.google.com/notebooks/data_table.ipynb>data table notebook</a>'\n",
              "            + ' to learn more about interactive tables.';\n",
              "          element.innerHTML = '';\n",
              "          dataTable['output_type'] = 'display_data';\n",
              "          await google.colab.output.renderOutput(dataTable, element);\n",
              "          const docLink = document.createElement('div');\n",
              "          docLink.innerHTML = docLinkHtml;\n",
              "          element.appendChild(docLink);\n",
              "        }\n",
              "      </script>\n",
              "    </div>\n",
              "  </div>\n",
              "  "
            ]
          },
          "metadata": {},
          "execution_count": 69
        }
      ]
    },
    {
      "cell_type": "code",
      "source": [
        "print(\"Verificamos tipos de datos: \")\n",
        "datatest.dtypes"
      ],
      "metadata": {
        "colab": {
          "base_uri": "https://localhost:8080/"
        },
        "id": "h6XPCuoESLxN",
        "outputId": "e419c82a-81ac-41bb-fbff-4e75d5422c47"
      },
      "execution_count": 70,
      "outputs": [
        {
          "output_type": "stream",
          "name": "stdout",
          "text": [
            "Verificamos tipos de datos: \n"
          ]
        },
        {
          "output_type": "execute_result",
          "data": {
            "text/plain": [
              "feature1    float64\n",
              "feature2    float64\n",
              "feature3    float64\n",
              "feature4    float64\n",
              "feature5    float64\n",
              "feature6    float64\n",
              "dtype: object"
            ]
          },
          "metadata": {},
          "execution_count": 70
        }
      ]
    },
    {
      "cell_type": "code",
      "source": [
        "datatest.shape"
      ],
      "metadata": {
        "colab": {
          "base_uri": "https://localhost:8080/"
        },
        "id": "337WH1V4SXX3",
        "outputId": "70f2a20f-bd74-4f00-bce2-4aea11899563"
      },
      "execution_count": 71,
      "outputs": [
        {
          "output_type": "execute_result",
          "data": {
            "text/plain": [
              "(900, 6)"
            ]
          },
          "metadata": {},
          "execution_count": 71
        }
      ]
    },
    {
      "cell_type": "code",
      "source": [
        "print(\"Proporcion de valores nulos: \")\n",
        "datatest.isnull().sum() / datatest.shape[0]"
      ],
      "metadata": {
        "colab": {
          "base_uri": "https://localhost:8080/"
        },
        "id": "ncVWQlowtCJJ",
        "outputId": "57fd9552-cdaa-4d9d-cb9d-7a0e42fe9be0"
      },
      "execution_count": 72,
      "outputs": [
        {
          "output_type": "stream",
          "name": "stdout",
          "text": [
            "Proporcion de valores nulos: \n"
          ]
        },
        {
          "output_type": "execute_result",
          "data": {
            "text/plain": [
              "feature1    0.0\n",
              "feature2    0.0\n",
              "feature3    0.0\n",
              "feature4    0.0\n",
              "feature5    0.0\n",
              "feature6    0.0\n",
              "dtype: float64"
            ]
          },
          "metadata": {},
          "execution_count": 72
        }
      ]
    },
    {
      "cell_type": "code",
      "source": [
        "datatest.describe()"
      ],
      "metadata": {
        "colab": {
          "base_uri": "https://localhost:8080/",
          "height": 300
        },
        "id": "0yH77tDytLpT",
        "outputId": "98a0c562-ec15-4ab5-95e7-46c9cc101230"
      },
      "execution_count": 73,
      "outputs": [
        {
          "output_type": "execute_result",
          "data": {
            "text/plain": [
              "         feature1    feature2    feature3    feature4    feature5    feature6\n",
              "count  900.000000  900.000000  900.000000  900.000000  900.000000  900.000000\n",
              "mean    -0.170339    0.135481   -0.447035   -0.201708   -0.263349   -0.445490\n",
              "std      1.485402    1.547202    1.394437    1.487102    1.450823    1.215000\n",
              "min     -5.084203   -4.292548   -4.628992   -6.732089   -5.196997   -4.823971\n",
              "25%     -1.098759   -0.934171   -1.460497   -1.163163   -1.182667   -1.152891\n",
              "50%     -0.386297    0.341427   -0.464239   -0.177710   -0.233699   -0.410182\n",
              "75%      0.881170    1.246296    0.626893    0.870332    0.679282    0.399597\n",
              "max      4.636012    4.612113    3.299946    5.996929    3.917118    5.357953"
            ],
            "text/html": [
              "\n",
              "  <div id=\"df-d3828d35-16be-482e-93fb-fe5cbe872fb2\">\n",
              "    <div class=\"colab-df-container\">\n",
              "      <div>\n",
              "<style scoped>\n",
              "    .dataframe tbody tr th:only-of-type {\n",
              "        vertical-align: middle;\n",
              "    }\n",
              "\n",
              "    .dataframe tbody tr th {\n",
              "        vertical-align: top;\n",
              "    }\n",
              "\n",
              "    .dataframe thead th {\n",
              "        text-align: right;\n",
              "    }\n",
              "</style>\n",
              "<table border=\"1\" class=\"dataframe\">\n",
              "  <thead>\n",
              "    <tr style=\"text-align: right;\">\n",
              "      <th></th>\n",
              "      <th>feature1</th>\n",
              "      <th>feature2</th>\n",
              "      <th>feature3</th>\n",
              "      <th>feature4</th>\n",
              "      <th>feature5</th>\n",
              "      <th>feature6</th>\n",
              "    </tr>\n",
              "  </thead>\n",
              "  <tbody>\n",
              "    <tr>\n",
              "      <th>count</th>\n",
              "      <td>900.000000</td>\n",
              "      <td>900.000000</td>\n",
              "      <td>900.000000</td>\n",
              "      <td>900.000000</td>\n",
              "      <td>900.000000</td>\n",
              "      <td>900.000000</td>\n",
              "    </tr>\n",
              "    <tr>\n",
              "      <th>mean</th>\n",
              "      <td>-0.170339</td>\n",
              "      <td>0.135481</td>\n",
              "      <td>-0.447035</td>\n",
              "      <td>-0.201708</td>\n",
              "      <td>-0.263349</td>\n",
              "      <td>-0.445490</td>\n",
              "    </tr>\n",
              "    <tr>\n",
              "      <th>std</th>\n",
              "      <td>1.485402</td>\n",
              "      <td>1.547202</td>\n",
              "      <td>1.394437</td>\n",
              "      <td>1.487102</td>\n",
              "      <td>1.450823</td>\n",
              "      <td>1.215000</td>\n",
              "    </tr>\n",
              "    <tr>\n",
              "      <th>min</th>\n",
              "      <td>-5.084203</td>\n",
              "      <td>-4.292548</td>\n",
              "      <td>-4.628992</td>\n",
              "      <td>-6.732089</td>\n",
              "      <td>-5.196997</td>\n",
              "      <td>-4.823971</td>\n",
              "    </tr>\n",
              "    <tr>\n",
              "      <th>25%</th>\n",
              "      <td>-1.098759</td>\n",
              "      <td>-0.934171</td>\n",
              "      <td>-1.460497</td>\n",
              "      <td>-1.163163</td>\n",
              "      <td>-1.182667</td>\n",
              "      <td>-1.152891</td>\n",
              "    </tr>\n",
              "    <tr>\n",
              "      <th>50%</th>\n",
              "      <td>-0.386297</td>\n",
              "      <td>0.341427</td>\n",
              "      <td>-0.464239</td>\n",
              "      <td>-0.177710</td>\n",
              "      <td>-0.233699</td>\n",
              "      <td>-0.410182</td>\n",
              "    </tr>\n",
              "    <tr>\n",
              "      <th>75%</th>\n",
              "      <td>0.881170</td>\n",
              "      <td>1.246296</td>\n",
              "      <td>0.626893</td>\n",
              "      <td>0.870332</td>\n",
              "      <td>0.679282</td>\n",
              "      <td>0.399597</td>\n",
              "    </tr>\n",
              "    <tr>\n",
              "      <th>max</th>\n",
              "      <td>4.636012</td>\n",
              "      <td>4.612113</td>\n",
              "      <td>3.299946</td>\n",
              "      <td>5.996929</td>\n",
              "      <td>3.917118</td>\n",
              "      <td>5.357953</td>\n",
              "    </tr>\n",
              "  </tbody>\n",
              "</table>\n",
              "</div>\n",
              "      <button class=\"colab-df-convert\" onclick=\"convertToInteractive('df-d3828d35-16be-482e-93fb-fe5cbe872fb2')\"\n",
              "              title=\"Convert this dataframe to an interactive table.\"\n",
              "              style=\"display:none;\">\n",
              "        \n",
              "  <svg xmlns=\"http://www.w3.org/2000/svg\" height=\"24px\"viewBox=\"0 0 24 24\"\n",
              "       width=\"24px\">\n",
              "    <path d=\"M0 0h24v24H0V0z\" fill=\"none\"/>\n",
              "    <path d=\"M18.56 5.44l.94 2.06.94-2.06 2.06-.94-2.06-.94-.94-2.06-.94 2.06-2.06.94zm-11 1L8.5 8.5l.94-2.06 2.06-.94-2.06-.94L8.5 2.5l-.94 2.06-2.06.94zm10 10l.94 2.06.94-2.06 2.06-.94-2.06-.94-.94-2.06-.94 2.06-2.06.94z\"/><path d=\"M17.41 7.96l-1.37-1.37c-.4-.4-.92-.59-1.43-.59-.52 0-1.04.2-1.43.59L10.3 9.45l-7.72 7.72c-.78.78-.78 2.05 0 2.83L4 21.41c.39.39.9.59 1.41.59.51 0 1.02-.2 1.41-.59l7.78-7.78 2.81-2.81c.8-.78.8-2.07 0-2.86zM5.41 20L4 18.59l7.72-7.72 1.47 1.35L5.41 20z\"/>\n",
              "  </svg>\n",
              "      </button>\n",
              "      \n",
              "  <style>\n",
              "    .colab-df-container {\n",
              "      display:flex;\n",
              "      flex-wrap:wrap;\n",
              "      gap: 12px;\n",
              "    }\n",
              "\n",
              "    .colab-df-convert {\n",
              "      background-color: #E8F0FE;\n",
              "      border: none;\n",
              "      border-radius: 50%;\n",
              "      cursor: pointer;\n",
              "      display: none;\n",
              "      fill: #1967D2;\n",
              "      height: 32px;\n",
              "      padding: 0 0 0 0;\n",
              "      width: 32px;\n",
              "    }\n",
              "\n",
              "    .colab-df-convert:hover {\n",
              "      background-color: #E2EBFA;\n",
              "      box-shadow: 0px 1px 2px rgba(60, 64, 67, 0.3), 0px 1px 3px 1px rgba(60, 64, 67, 0.15);\n",
              "      fill: #174EA6;\n",
              "    }\n",
              "\n",
              "    [theme=dark] .colab-df-convert {\n",
              "      background-color: #3B4455;\n",
              "      fill: #D2E3FC;\n",
              "    }\n",
              "\n",
              "    [theme=dark] .colab-df-convert:hover {\n",
              "      background-color: #434B5C;\n",
              "      box-shadow: 0px 1px 3px 1px rgba(0, 0, 0, 0.15);\n",
              "      filter: drop-shadow(0px 1px 2px rgba(0, 0, 0, 0.3));\n",
              "      fill: #FFFFFF;\n",
              "    }\n",
              "  </style>\n",
              "\n",
              "      <script>\n",
              "        const buttonEl =\n",
              "          document.querySelector('#df-d3828d35-16be-482e-93fb-fe5cbe872fb2 button.colab-df-convert');\n",
              "        buttonEl.style.display =\n",
              "          google.colab.kernel.accessAllowed ? 'block' : 'none';\n",
              "\n",
              "        async function convertToInteractive(key) {\n",
              "          const element = document.querySelector('#df-d3828d35-16be-482e-93fb-fe5cbe872fb2');\n",
              "          const dataTable =\n",
              "            await google.colab.kernel.invokeFunction('convertToInteractive',\n",
              "                                                     [key], {});\n",
              "          if (!dataTable) return;\n",
              "\n",
              "          const docLinkHtml = 'Like what you see? Visit the ' +\n",
              "            '<a target=\"_blank\" href=https://colab.research.google.com/notebooks/data_table.ipynb>data table notebook</a>'\n",
              "            + ' to learn more about interactive tables.';\n",
              "          element.innerHTML = '';\n",
              "          dataTable['output_type'] = 'display_data';\n",
              "          await google.colab.output.renderOutput(dataTable, element);\n",
              "          const docLink = document.createElement('div');\n",
              "          docLink.innerHTML = docLinkHtml;\n",
              "          element.appendChild(docLink);\n",
              "        }\n",
              "      </script>\n",
              "    </div>\n",
              "  </div>\n",
              "  "
            ]
          },
          "metadata": {},
          "execution_count": 73
        }
      ]
    },
    {
      "cell_type": "code",
      "source": [
        "datatest.hist()"
      ],
      "metadata": {
        "colab": {
          "base_uri": "https://localhost:8080/",
          "height": 403
        },
        "id": "9bJrSwuYtXyw",
        "outputId": "c422f84f-6c8d-4842-9d95-60b4a3e69a66"
      },
      "execution_count": 74,
      "outputs": [
        {
          "output_type": "execute_result",
          "data": {
            "text/plain": [
              "array([[<matplotlib.axes._subplots.AxesSubplot object at 0x7f14fcc52e50>,\n",
              "        <matplotlib.axes._subplots.AxesSubplot object at 0x7f14fcc6e510>],\n",
              "       [<matplotlib.axes._subplots.AxesSubplot object at 0x7f14fcc23b10>,\n",
              "        <matplotlib.axes._subplots.AxesSubplot object at 0x7f14fcbdaa90>],\n",
              "       [<matplotlib.axes._subplots.AxesSubplot object at 0x7f14fcb99310>,\n",
              "        <matplotlib.axes._subplots.AxesSubplot object at 0x7f14fcb4f810>]],\n",
              "      dtype=object)"
            ]
          },
          "metadata": {},
          "execution_count": 74
        },
        {
          "output_type": "display_data",
          "data": {
            "text/plain": [
              "<Figure size 432x288 with 6 Axes>"
            ],
            "image/png": "[encoded data removed]"
          },
          "metadata": {
            "needs_background": "light"
          }
        }
      ]
    },
    {
      "cell_type": "code",
      "source": [
        "x= datatest.iloc[0:]\n"
      ],
      "metadata": {
        "id": "IkplSsw6t33b"
      },
      "execution_count": 75,
      "outputs": []
    },
    {
      "cell_type": "code",
      "source": [
        "x.shape"
      ],
      "metadata": {
        "colab": {
          "base_uri": "https://localhost:8080/"
        },
        "id": "NK2s-o1Gt8Zd",
        "outputId": "bf9d7b4d-6b16-4143-8c94-4020a289ee17"
      },
      "execution_count": 76,
      "outputs": [
        {
          "output_type": "execute_result",
          "data": {
            "text/plain": [
              "(900, 6)"
            ]
          },
          "metadata": {},
          "execution_count": 76
        }
      ]
    },
    {
      "cell_type": "markdown",
      "source": [
        "#3.Model building with Data Test"
      ],
      "metadata": {
        "id": "TzeC1npaWAFK"
      }
    },
    {
      "cell_type": "code",
      "source": [
        "y_pred = cls.predict(x_test)\n",
        "y_pred[0: ]"
      ],
      "metadata": {
        "colab": {
          "base_uri": "https://localhost:8080/"
        },
        "id": "0PrmUqF-u5Bp",
        "outputId": "41a61d33-b270-4d9d-b13c-2e83d95296ac"
      },
      "execution_count": 77,
      "outputs": [
        {
          "output_type": "execute_result",
          "data": {
            "text/plain": [
              "array([1, 1, 1, 4, 3, 1, 1, 0, 4, 1, 4, 3, 2, 3, 3, 3, 4, 4, 1, 3, 2, 4,\n",
              "       0, 4, 0, 2, 3, 1, 3, 4, 0, 0, 3, 4, 3, 4, 4, 0, 4, 3, 3, 2, 2, 3,\n",
              "       2, 4, 0, 4, 0, 0, 3, 1, 1, 3, 3, 3, 1, 4, 2, 4, 1, 1, 4, 1, 1, 4,\n",
              "       3, 2, 0, 4, 2, 3, 4, 3, 1, 4, 3, 2, 0, 4, 4, 1, 1, 1, 3, 3, 2, 0,\n",
              "       2, 0, 0, 1, 3, 4, 4, 2, 0, 3, 4, 1, 1, 2, 4, 4, 4, 2, 0, 0, 2, 0,\n",
              "       4, 2, 3, 1, 0, 3, 3, 0, 2, 4, 1, 3, 3, 4, 0, 0, 4, 4, 1, 2, 0, 1,\n",
              "       0, 2, 1, 0, 2, 4, 2, 0, 3, 1, 4, 1, 4, 4, 4, 3, 2, 2, 3, 1, 3, 1,\n",
              "       0, 0, 3, 1, 2, 2, 2, 2, 2, 0, 3, 1, 4, 3, 1, 3, 1, 0, 2, 0, 4, 1,\n",
              "       3, 2, 3, 2, 1, 2, 0, 0, 1, 1, 3, 2, 4, 3, 2, 3, 0, 1, 4, 0, 1, 3,\n",
              "       4, 2, 4, 4, 1, 0, 1, 1, 4, 2, 3, 4, 2, 3, 2, 1, 3, 1, 2, 1, 1, 4,\n",
              "       4, 2, 1, 4, 1, 1, 1, 1, 1, 2, 4, 0, 3, 2, 0, 4, 3, 2, 1, 4, 0, 3,\n",
              "       1, 2, 0, 0, 1, 3, 2, 2, 4, 2, 1, 3, 1, 0, 2, 0, 0, 1, 4, 4, 2, 0,\n",
              "       1, 2, 1, 2, 0, 4, 2, 2, 3, 2, 3, 4, 1, 3, 0, 4, 4, 2, 0, 1, 0, 4,\n",
              "       0, 0, 3, 0, 1, 3, 1, 1, 1, 4, 4, 2, 4, 1, 2, 0, 2, 3, 2, 0, 1, 2,\n",
              "       4, 2, 3, 0, 2, 0, 2, 1, 0, 0, 1, 1, 1, 0, 0, 4, 3, 3, 0, 1, 1, 3,\n",
              "       2, 2, 2, 1, 0, 3, 2, 1, 0, 3, 4, 4, 0, 1, 4, 4, 4, 0, 0, 0, 1, 2,\n",
              "       3, 0, 3, 0, 2, 3, 3, 4, 2, 3, 3, 0, 1, 0, 4, 4, 3, 3, 4, 0, 0, 0,\n",
              "       3, 4, 4, 1, 1, 0, 4, 2, 1, 3, 2, 4, 4, 3, 1, 1, 0, 0, 3, 0, 3, 3,\n",
              "       3, 3, 0, 4, 2, 4, 4, 0, 1, 4, 0, 3, 2, 0, 2, 3, 3, 3, 1, 0, 4, 3,\n",
              "       1, 1, 3, 0, 4, 1, 1, 2, 2, 1, 3, 3, 0, 0, 3, 3, 0, 4, 2, 0, 2, 3,\n",
              "       3, 1, 3, 2, 4, 1, 3, 3, 3, 2, 3, 0, 1, 4, 3, 3, 1, 1, 2, 0, 1, 4,\n",
              "       2, 3, 0, 3, 0, 3, 2, 0, 1, 4, 1, 4, 4, 0, 1, 1, 2, 1, 3, 1, 4, 3,\n",
              "       2, 4, 1, 1, 4, 0, 4, 0, 0, 3, 1, 2, 3, 4, 1, 1, 4, 4, 1, 1, 1, 1,\n",
              "       2, 2, 1, 4, 3, 0, 0, 2, 2, 0, 4, 0, 0, 1, 0, 1, 3, 1, 2])"
            ]
          },
          "metadata": {},
          "execution_count": 77
        }
      ]
    },
    {
      "cell_type": "markdown",
      "source": [
        "# 4.1 Test datasets"
      ],
      "metadata": {
        "id": "tM5dQQAQWVYg"
      }
    },
    {
      "cell_type": "code",
      "source": [
        "from sklearn.metrics import confusion_matrix\n",
        "confusion_matrix( y_test, y_pred)"
      ],
      "metadata": {
        "colab": {
          "base_uri": "https://localhost:8080/"
        },
        "id": "sYceuiUVvsT5",
        "outputId": "9f3ef50b-cd21-4c9f-a386-bf00ebc13e45"
      },
      "execution_count": 78,
      "outputs": [
        {
          "output_type": "execute_result",
          "data": {
            "text/plain": [
              "array([[88, 10,  5,  4,  1],\n",
              "       [ 6, 82, 11,  6,  1],\n",
              "       [ 9, 15, 66,  5, 12],\n",
              "       [ 0, 10,  4, 84,  8],\n",
              "       [ 0,  1,  7,  9, 81]])"
            ]
          },
          "metadata": {},
          "execution_count": 78
        }
      ]
    },
    {
      "cell_type": "code",
      "source": [
        "from sklearn.metrics import f1_score\n",
        "f1_score(y_test, y_pred, average='macro')"
      ],
      "metadata": {
        "colab": {
          "base_uri": "https://localhost:8080/"
        },
        "id": "4SSe4PlXv0_N",
        "outputId": "e8c5edf5-d65b-4b60-8c9e-12348c6ebd69"
      },
      "execution_count": 79,
      "outputs": [
        {
          "output_type": "execute_result",
          "data": {
            "text/plain": [
              "0.7634565916234733"
            ]
          },
          "metadata": {},
          "execution_count": 79
        }
      ]
    },
    {
      "cell_type": "code",
      "source": [
        "from sklearn.model_selection import cross_val_score\n",
        "cross_val_score(cls, x_train, y_train, cv =10)"
      ],
      "metadata": {
        "colab": {
          "base_uri": "https://localhost:8080/"
        },
        "id": "JTW5BI7xwMv0",
        "outputId": "db0b7c80-1f4f-415c-caa0-280eda700bd3"
      },
      "execution_count": 80,
      "outputs": [
        {
          "output_type": "execute_result",
          "data": {
            "text/plain": [
              "array([0.71518987, 0.8164557 , 0.74050633, 0.78481013, 0.78481013,\n",
              "       0.72611465, 0.74522293, 0.75159236, 0.77070064, 0.70700637])"
            ]
          },
          "metadata": {},
          "execution_count": 80
        }
      ]
    },
    {
      "cell_type": "code",
      "source": [
        "from sklearn.metrics import classification_report\n",
        "print(classification_report (y_pred, y_test))"
      ],
      "metadata": {
        "colab": {
          "base_uri": "https://localhost:8080/"
        },
        "id": "Ok8zuJN6wZSA",
        "outputId": "0ef6d816-7106-4006-a906-6b7f4283cff9"
      },
      "execution_count": 81,
      "outputs": [
        {
          "output_type": "stream",
          "name": "stdout",
          "text": [
            "              precision    recall  f1-score   support\n",
            "\n",
            "           0       0.81      0.85      0.83       103\n",
            "           1       0.77      0.69      0.73       118\n",
            "           2       0.62      0.71      0.66        93\n",
            "           3       0.79      0.78      0.79       108\n",
            "           4       0.83      0.79      0.81       103\n",
            "\n",
            "    accuracy                           0.76       525\n",
            "   macro avg       0.76      0.76      0.76       525\n",
            "weighted avg       0.77      0.76      0.76       525\n",
            "\n"
          ]
        }
      ]
    },
    {
      "cell_type": "code",
      "source": [
        "df_cm = pd.DataFrame(confusion_matrix(y_test,y_pred), index = [i for i in \"01234\"],\n",
        "                  columns = [i for i in \"01234\"])\n",
        "plt.figure(figsize = (10,7))\n",
        "sns.heatmap(df_cm, annot=True)\n",
        "plt.title(\"Confusion Matrix\")"
      ],
      "metadata": {
        "colab": {
          "base_uri": "https://localhost:8080/",
          "height": 461
        },
        "id": "BCm2uXS_9jbP",
        "outputId": "6479ab26-c60c-4692-a2f4-b031bb33eae8"
      },
      "execution_count": 82,
      "outputs": [
        {
          "output_type": "execute_result",
          "data": {
            "text/plain": [
              "Text(0.5, 1.0, 'Confusion Matrix')"
            ]
          },
          "metadata": {},
          "execution_count": 82
        },
        {
          "output_type": "display_data",
          "data": {
            "text/plain": [
              "<Figure size 720x504 with 2 Axes>"
            ],
            "image/png": "[encoded data removed]"
          },
          "metadata": {
            "needs_background": "light"
          }
        }
      ]
    },
    {
      "cell_type": "markdown",
      "source": [
        "#5.Output"
      ],
      "metadata": {
        "id": "lLL_skIdWoK_"
      }
    },
    {
      "cell_type": "code",
      "source": [
        "def download_output(y_pred, name):\n",
        "  output = pd.DataFrame({ \n",
        "                         'Finally predict': y_pred})\n",
        "  output.to_csv(name, index=False)\n",
        "\n",
        "download_output(y_pred, 'vulcan_predict.csv')"
      ],
      "metadata": {
        "id": "ZmYqHkD86HSx"
      },
      "execution_count": 83,
      "outputs": []
    }
  ]
}